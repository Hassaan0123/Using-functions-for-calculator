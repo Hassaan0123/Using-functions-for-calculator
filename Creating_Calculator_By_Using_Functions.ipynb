{
  "nbformat": 4,
  "nbformat_minor": 0,
  "metadata": {
    "colab": {
      "name": "Creating Calculator By Using Functions.ipynb",
      "provenance": [],
      "collapsed_sections": []
    },
    "kernelspec": {
      "name": "python3",
      "display_name": "Python 3"
    },
    "language_info": {
      "name": "python"
    }
  },
  "cells": [
    {
      "cell_type": "code",
      "execution_count": 2,
      "metadata": {
        "colab": {
          "base_uri": "https://localhost:8080/"
        },
        "id": "o93mVqh_qgNV",
        "outputId": "37839b90-b71d-4c75-d86f-27c43d8e6795"
      },
      "outputs": [
        {
          "output_type": "stream",
          "name": "stdout",
          "text": [
            "Enter first number: 12\n",
            "Enter second number: 3\n",
            "Enter third number: 2\n",
            "Addition is: 17\n",
            "Subtraction is: 7\n",
            "Multiplication is: 72\n",
            "Division is: 2.0\n",
            "Modulus Or Remainder is: 0\n"
          ]
        }
      ],
      "source": [
        "def calculator(num_1,num_2,num_3):\n",
        "  add=num_1+num_2+num_3\n",
        "  print(\"Addition is:\",add)\n",
        "\n",
        "  sub=num_1-num_2-num_3\n",
        "  print(\"Subtraction is:\",sub)\n",
        "\n",
        "  mul=num_1*num_2*num_3\n",
        "  print(\"Multiplication is:\",mul)\n",
        "\n",
        "  div=num_1/num_2/num_3\n",
        "  print(\"Division is:\",div)\n",
        "\n",
        "  mod=num_1%num_2%num_3\n",
        "  print(\"Modulus Or Remainder is:\",mod)\n",
        "\n",
        "a = int(input(\"Enter first number: \"))\n",
        "b = int(input(\"Enter second number: \"))\n",
        "c = int(input(\"Enter third number: \"))\n",
        "calculator(a,b,c)"
      ]
    },
    {
      "cell_type": "code",
      "source": [
        "def calculator(first_num , second_num , operator):\n",
        "  if operator==\"A\":\n",
        "    sum = first_num + second_num\n",
        "    print(sum)\n",
        "\n",
        "  elif operator==\"S\":\n",
        "    minus = first_num - second_num\n",
        "    print(minus)\n",
        "  \n",
        "  elif operator==\"M\":\n",
        "    multi = first_num * second_num\n",
        "    print(multi)\n",
        "\n",
        "  elif operator==\"D\":\n",
        "    div = first_num / second_num\n",
        "    print(div)\n",
        "\n",
        "  elif operator==\"R\":\n",
        "    mod = first_num % second_num\n",
        "    print(mod)\n",
        "\n",
        "a = int(input(\"Enter first number: \"))\n",
        "b = int(input(\"Enter second number: \"))\n",
        "o = input(\"Enter operator (A,S,M,D,R): \")\n",
        "calculator(a,b,o)"
      ],
      "metadata": {
        "colab": {
          "base_uri": "https://localhost:8080/"
        },
        "id": "g8RgN0X8qim_",
        "outputId": "74c18500-d2f6-4c96-d479-6625ac51a7d6"
      },
      "execution_count": 4,
      "outputs": [
        {
          "output_type": "stream",
          "name": "stdout",
          "text": [
            "Enter first number: 12\n",
            "Enter second number: 3\n",
            "Enter operator (A,S,M,D,R): A\n",
            "15\n"
          ]
        }
      ]
    }
  ]
}